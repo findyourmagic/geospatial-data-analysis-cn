{
 "cells": [
  {
   "cell_type": "markdown",
   "metadata": {},
   "source": [
    "# Python地理信息向量数据处理介绍"
   ]
  },
  {
   "cell_type": "code",
   "execution_count": null,
   "metadata": {},
   "outputs": [],
   "source": [
    "%matplotlib inline\n",
    "\n",
    "import pandas as pd\n",
    "import geopandas\n",
    "\n",
    "pd.options.display.max_rows = 10"
   ]
  },
  {
   "cell_type": "markdown",
   "metadata": {},
   "source": [
    "## 导入地理信息数据"
   ]
  },
  {
   "cell_type": "markdown",
   "metadata": {},
   "source": [
    "地理信息数据大概率来自一些特定的 GIS 格式文件或者数据库, 比如 ESRI shapefiles, GeoJSON, geopackage, PostGIS (PostgreSQL) 数据库等等。\n",
    "\n",
    "我们可以使用 GeoPandas 的 `geopandas.read_file` 函数来读取这些格式的文件(底层依赖 `fiona` , 一个对 GDAL/OGR 的封装)。\n",
    "\n",
    "For example, let's start by reading a shapefile with all the countries of the world (adapted from http://www.naturalearthdata.com/downloads/110m-cultural-vectors/110m-admin-0-countries/, zip file is available in the `/data` directory), and inspect the data:\n",
    "\n",
    "例如，我们从读取并查看一个包含全部国家的 shapefile 文件开始(引自：http://www.naturalearthdata.com/downloads/110m-cultural-vectors/110m-admin-0-countries/，zip 文件已经在`/data`文件夹下)。"
   ]
  },
  {
   "cell_type": "code",
   "execution_count": null,
   "metadata": {},
   "outputs": [],
   "source": [
    "countries = geopandas.read_file(\"zip://./data/ne_110m_admin_0_countries.zip\")\n",
    "# 如果 zip 文件已经解压过:\n",
    "# countries = geopandas.read_file(\"data/ne_110m_admin_0_countries/ne_110m_admin_0_countries.shp\")"
   ]
  },
  {
   "cell_type": "code",
   "execution_count": null,
   "metadata": {},
   "outputs": [],
   "source": [
    "countries.head()"
   ]
  },
  {
   "cell_type": "code",
   "execution_count": null,
   "metadata": {},
   "outputs": [],
   "source": [
    "countries.plot()"
   ]
  },
  {
   "cell_type": "markdown",
   "metadata": {},
   "source": [
    "我们可以观察到:\n",
    "\n",
    "- 使用 `.head()` 我们可以看到 dataset 的第一行, 就像在 Pandas 中一样\n",
    "- 有一个 'geometry' 列，每个国家都用多边形描述出来\n",
    "- 可以使用 `.plot()` 方法快速获取数据的基本可视化"
   ]
  },
  {
   "cell_type": "markdown",
   "metadata": {},
   "source": [
    "## 什么是 GeoDataFrame (地理数据框架)?\n",
    "\n",
    "我们使用 GeoPandas 读取地理信息数据, GeoPandas 就会返回 `GeoDataFrame`:"
   ]
  },
  {
   "cell_type": "code",
   "execution_count": null,
   "metadata": {},
   "outputs": [],
   "source": [
    "type(countries)"
   ]
  },
  {
   "cell_type": "markdown",
   "metadata": {},
   "source": [
    "一个 GeoDataFrame 包含表格和地理信息数据集。\n",
    "\n",
    "* 它有一个 **'几何图形' 列** 用来存储几何信息 (或者 GeoJSON 中的特征).\n",
    "* 其他列 **属性** (或者 GeoJSON 中的特征) 用来描述这些几何图形\n",
    "\n",
    "这样的 `GeoDataFrame` 就像 pandas 里的 `DataFrame`, 但是附加了一些处理地理信息数据的功能:\n",
    "\n",
    "* `.geometry` 属性总是返回几何信息 (返回 GeoSeries). 改列的列名也不一定非得是 'geometry', 但是这一列总会被作为 `.geometry` 属性处理.\n",
    "* 有一些处理地理数据的方法 (面积, 距离, 缓冲区, 交集, ...), 后面的教程中会讲到"
   ]
  },
  {
   "cell_type": "code",
   "execution_count": null,
   "metadata": {},
   "outputs": [],
   "source": [
    "countries.geometry"
   ]
  },
  {
   "cell_type": "code",
   "execution_count": null,
   "metadata": {},
   "outputs": [],
   "source": [
    "type(countries.geometry)"
   ]
  },
  {
   "cell_type": "code",
   "execution_count": null,
   "metadata": {},
   "outputs": [],
   "source": [
    "countries.geometry.area"
   ]
  },
  {
   "cell_type": "markdown",
   "metadata": {},
   "source": [
    "**它仍然是 DataFrame**, 所以所有的 pandas 功能都可以用在地理信息数据集上, 并对各属性和几何图形数据进行处理。\n",
    "\n",
    "比如, 我们可以计算各个国家的平均人口 (通过在 'pop_est' 列上调用 `mean` 方法):"
   ]
  },
  {
   "cell_type": "code",
   "execution_count": null,
   "metadata": {},
   "outputs": [],
   "source": [
    "countries['pop_est'].mean()"
   ]
  },
  {
   "cell_type": "markdown",
   "metadata": {},
   "source": [
    "或者,我们可以通过表达式使用布尔过滤器选择 dataframe 的子集："
   ]
  },
  {
   "cell_type": "code",
   "execution_count": null,
   "metadata": {},
   "outputs": [],
   "source": [
    "africa = countries[countries['continent'] == 'Africa']"
   ]
  },
  {
   "cell_type": "code",
   "execution_count": null,
   "metadata": {},
   "outputs": [],
   "source": [
    "africa.plot()"
   ]
  },
  {
   "cell_type": "markdown",
   "metadata": {},
   "source": [
    "---\n",
    "\n",
    "接下来的教程会假设你已经有一些 pandas 基础, 但是也会对不熟悉的地方给一些建议.   \n",
    "如果想要更深入的了解 pandas，可以看看以下资源:\n",
    "\n",
    "- Pandas docs: https://pandas.pydata.org/pandas-docs/stable/10min.html\n",
    "- Other tutorials: chapter from pandas in https://jakevdp.github.io/PythonDataScienceHandbook/, https://github.com/jorisvandenbossche/pandas-tutorial, https://github.com/TomAugspurger/pandas-head-to-tail, ..."
   ]
  },
  {
   "cell_type": "markdown",
   "metadata": {},
   "source": [
    "<div class=\"alert alert-info\" style=\"font-size:120%\">\n",
    "<b>提醒</b>: <br>\n",
    "\n",
    "<ul>\n",
    "  <li>`GeoDataFrame` 允许使用地理计算处理典型表格数据</li>\n",
    "  <li>`GeoDataFrame` (或者 *特征集合*) 由以下组成:\n",
    "   <ul>\n",
    "    <li>**Geometries** or **features**: 空间对象</li>\n",
    "    <li>**Attributes** or **properties**: 关于空间对象包含信息的列</li>\n",
    "   </ul>\n",
    "  </li>\n",
    "</ul>\n",
    "</div>"
   ]
  },
  {
   "cell_type": "markdown",
   "metadata": {},
   "source": [
    "## 几何图形: 点、线、面\n",
    "\n",
    "空间 **向量** 数据有三种不同的基本类型组成:\n",
    "\n",
    "* **Point** 数据: 描述空间中的一个点.\n",
    "* **Line** 数据 (\"LineString\"): 使用若干个点描述一条线.\n",
    "* **Polygon** 数据: 使用多边形描述一个填充平面.\n",
    "\n",
    "它们也可以组成符合几何图形 (扩展知识： https://shapely.readthedocs.io/en/stable/manual.html#geometric-objects)."
   ]
  },
  {
   "cell_type": "markdown",
   "metadata": {},
   "source": [
    "可以看到, 个体空间对象就是多边形:"
   ]
  },
  {
   "cell_type": "code",
   "execution_count": null,
   "metadata": {},
   "outputs": [],
   "source": [
    "print(countries.geometry[2])"
   ]
  },
  {
   "cell_type": "markdown",
   "metadata": {},
   "source": [
    "我们来导入一些不同类型几何对象的数据集.\n",
    "\n",
    "世界城市数据集 (引用： http://www.naturalearthdata.com/downloads/110m-cultural-vectors/110m-populated-places/, zip 文件已保存在 `/data` 文件夹下), 由点数据组成:"
   ]
  },
  {
   "cell_type": "code",
   "execution_count": null,
   "metadata": {},
   "outputs": [],
   "source": [
    "cities = geopandas.read_file(\"zip://./data/ne_110m_populated_places.zip\")"
   ]
  },
  {
   "cell_type": "code",
   "execution_count": null,
   "metadata": {},
   "outputs": [],
   "source": [
    "print(cities.geometry[0])"
   ]
  },
  {
   "cell_type": "markdown",
   "metadata": {},
   "source": [
    "还有一个世界河流数据集 (引用： http://www.naturalearthdata.com/downloads/50m-physical-vectors/50m-rivers-lake-centerlines/, zip 文件已保存在 `/data` 文件夹下) ，由线数据组成:"
   ]
  },
  {
   "cell_type": "code",
   "execution_count": null,
   "metadata": {},
   "outputs": [],
   "source": [
    "rivers = geopandas.read_file(\"zip://./data/ne_50m_rivers_lake_centerlines.zip\")"
   ]
  },
  {
   "cell_type": "code",
   "execution_count": null,
   "metadata": {},
   "outputs": [],
   "source": [
    "print(rivers.geometry[0])"
   ]
  },
  {
   "cell_type": "markdown",
   "metadata": {},
   "source": [
    "###  `shapely` 库\n",
    "\n",
    "几何对象来自 [`shapely`](https://shapely.readthedocs.io/en/stable/) 库"
   ]
  },
  {
   "cell_type": "code",
   "execution_count": null,
   "metadata": {},
   "outputs": [],
   "source": [
    "type(countries.geometry[0])"
   ]
  },
  {
   "cell_type": "markdown",
   "metadata": {},
   "source": [
    "我们自己来造一个几何对象:"
   ]
  },
  {
   "cell_type": "code",
   "execution_count": null,
   "metadata": {},
   "outputs": [],
   "source": [
    "from shapely.geometry import Point, Polygon, LineString"
   ]
  },
  {
   "cell_type": "code",
   "execution_count": null,
   "metadata": {},
   "outputs": [],
   "source": [
    "p = Point(1, 1)"
   ]
  },
  {
   "cell_type": "code",
   "execution_count": null,
   "metadata": {},
   "outputs": [],
   "source": [
    "print(p)"
   ]
  },
  {
   "cell_type": "code",
   "execution_count": null,
   "metadata": {},
   "outputs": [],
   "source": [
    "polygon = Polygon([(1, 1), (2,2), (2, 1)])"
   ]
  },
  {
   "cell_type": "markdown",
   "metadata": {},
   "source": [
    "<div class=\"alert alert-info\" style=\"font-size:120%\">\n",
    "<b>提醒</b>: <br><br>\n",
    "\n",
    "单个几何图形由 `shapely` 对象体现:\n",
    "\n",
    "<ul>\n",
    "  <li>如果你访问 GeoDataFrame 里的单个几何对象, 你会得到一个 `shapely` 几何对象</li>\n",
    "  <li>这些对象和 geopandas 对象具有类似的方法 (GeoDataFrame/GeoSeries). 例如:\n",
    "   <ul>\n",
    "    <li>`single_shapely_object.distance(other_point)` -> 两点之间的距离</li>\n",
    "    <li>`geodataframe.distance(other_point)` -> geodataframe 中每个点到 `other_point` 的距离</li>\n",
    "   </ul>\n",
    "  </li>\n",
    "</ul>\n",
    "</div>"
   ]
  },
  {
   "cell_type": "markdown",
   "metadata": {},
   "source": [
    "## 坐标参考系\n",
    "\n",
    "**坐标参考系 coordinate reference system (CRS)** 表明一个二维坐标系下的几何对象如何关联到地球上实际的地点.\n",
    "\n",
    "深入理解请看：\n",
    "https://docs.qgis.org/2.8/en/docs/gentle_gis_introduction/coordinate_reference_systems.html"
   ]
  },
  {
   "cell_type": "markdown",
   "metadata": {},
   "source": [
    "GeoDataFrame 或者 GeoSeries 都有 `.crs` 属性， 用来保存坐标参考系的描述:"
   ]
  },
  {
   "cell_type": "code",
   "execution_count": null,
   "metadata": {},
   "outputs": [],
   "source": [
    "countries.crs"
   ]
  },
  {
   "cell_type": "markdown",
   "metadata": {},
   "source": [
    "`countries` dataframe 表明它在使用 EPSG 4326 / WGS84 经纬参考系, 最常用的坐标系.  \n",
    "像你在下图中看到的这样，它用经纬度表示坐标:"
   ]
  },
  {
   "cell_type": "code",
   "execution_count": null,
   "metadata": {},
   "outputs": [],
   "source": [
    "countries.plot()"
   ]
  },
  {
   "cell_type": "markdown",
   "metadata": {},
   "source": [
    "`.crs` 属性是个字典。在这个案例里，它只包含 EPSG 码，但是它也可以包含完整的『proj4』字符串（字典格式）。\n",
    "\n",
    "在底层, GeoPandas 使用 `pyproj` / `proj4` 库来处理重投影。\n",
    "\n",
    "更多信息，请看 http://geopandas.readthedocs.io/en/latest/projections.html"
   ]
  },
  {
   "cell_type": "markdown",
   "metadata": {},
   "source": [
    "---\n",
    "\n",
    "你可能会有很多理由需要转换数据集的坐标系, 比如:\n",
    "\n",
    "- 不同的源使用不同的坐标参考系 -> 需要转换成相同的坐标参考系\n",
    "- 基于距离的操作 -> 使用一个以米为单位的坐标参考系 (而不是角度)\n",
    "- 使用一个固定的坐标参考系绘图 (比如要保持面积)\n",
    "\n",
    "可以使用 `to_crs` 函数来转换 GeoDataFrame 的坐标参考系. \n",
    "\n",
    "例如, 我们把国家数据集转换成世界墨卡托投影 (http://epsg.io/3395):"
   ]
  },
  {
   "cell_type": "code",
   "execution_count": null,
   "metadata": {},
   "outputs": [],
   "source": [
    "# 删除南极, 墨卡托投影处理不了两极\n",
    "countries = countries[(countries['name'] != \"Antarctica\")]"
   ]
  },
  {
   "cell_type": "code",
   "execution_count": null,
   "metadata": {},
   "outputs": [],
   "source": [
    "countries_mercator = countries.to_crs(epsg=3395)  # or .to_crs({'init': 'epsg:3395'})"
   ]
  },
  {
   "cell_type": "code",
   "execution_count": null,
   "metadata": {},
   "outputs": [],
   "source": [
    "countries_mercator.plot()"
   ]
  },
  {
   "cell_type": "markdown",
   "metadata": {},
   "source": [
    "注意 x 和 y 尺度不同"
   ]
  },
  {
   "cell_type": "markdown",
   "metadata": {},
   "source": [
    "## 讲不同的层绘制到一起"
   ]
  },
  {
   "cell_type": "code",
   "execution_count": null,
   "metadata": {},
   "outputs": [],
   "source": [
    "ax = countries.plot(edgecolor='k', facecolor='none', figsize=(15, 10))\n",
    "rivers.plot(ax=ax)\n",
    "cities.plot(ax=ax, color='red')\n",
    "ax.set(xlim=(-20, 60), ylim=(-40, 40))"
   ]
  },
  {
   "cell_type": "markdown",
   "metadata": {},
   "source": [
    "更多地理数据可视化详情，请看笔记 [04-more-on-visualization.ipynb](04-more-on-visualization.ipynb)。"
   ]
  },
  {
   "cell_type": "markdown",
   "metadata": {},
   "source": [
    "## 更多的 GeoDataFrames 导入和创建只是"
   ]
  },
  {
   "cell_type": "markdown",
   "metadata": {},
   "source": [
    "### 关于 `fiona`\n",
    "\n",
    "在底层, GeoPandas 使用 [Fiona library](http://toblerity.org/fiona/) (GDAL/OGR 的 Python 封装) 来读写数据. 对于大部分常用场景，GeoPandas 提供了更加用户友好的包装. 如果你想进行更细节的控制, 那么可以这样用 fiona 读取数据:\n"
   ]
  },
  {
   "cell_type": "code",
   "execution_count": null,
   "metadata": {},
   "outputs": [],
   "source": [
    "import fiona\n",
    "from shapely.geometry import shape\n",
    "\n",
    "with fiona.drivers():\n",
    "    with fiona.open(\"data/ne_110m_admin_0_countries/ne_110m_admin_0_countries.shp\") as collection:\n",
    "        for feature in collection:\n",
    "            # ... do something with geometry\n",
    "            geom = shape(feature['geometry'])\n",
    "            # ... do something with properties\n",
    "            print(feature['properties']['name'])"
   ]
  },
  {
   "cell_type": "markdown",
   "metadata": {},
   "source": [
    "### 手工构建 GeoDataFrame"
   ]
  },
  {
   "cell_type": "code",
   "execution_count": null,
   "metadata": {},
   "outputs": [],
   "source": [
    "geopandas.GeoDataFrame({\n",
    "    'geometry': [Point(1, 1), Point(2, 2)],\n",
    "    'attribute1': [1, 2],\n",
    "    'attribute2': [0.1, 0.2]})"
   ]
  },
  {
   "cell_type": "markdown",
   "metadata": {},
   "source": [
    "### Creating a GeoDataFrame from an existing dataframe\n",
    "\n",
    "For example, if you have lat/lon coordinates in two columns:"
   ]
  },
  {
   "cell_type": "code",
   "execution_count": null,
   "metadata": {},
   "outputs": [],
   "source": [
    "df = pd.DataFrame(\n",
    "    {'City': ['Buenos Aires', 'Brasilia', 'Santiago', 'Bogota', 'Caracas'],\n",
    "     'Country': ['Argentina', 'Brazil', 'Chile', 'Colombia', 'Venezuela'],\n",
    "     'Latitude': [-34.58, -15.78, -33.45, 4.60, 10.48],\n",
    "     'Longitude': [-58.66, -47.91, -70.66, -74.08, -66.86]})"
   ]
  },
  {
   "cell_type": "code",
   "execution_count": null,
   "metadata": {},
   "outputs": [],
   "source": [
    "df['Coordinates']  = list(zip(df.Longitude, df.Latitude))"
   ]
  },
  {
   "cell_type": "code",
   "execution_count": null,
   "metadata": {},
   "outputs": [],
   "source": [
    "df['Coordinates'] = df['Coordinates'].apply(Point)"
   ]
  },
  {
   "cell_type": "code",
   "execution_count": null,
   "metadata": {},
   "outputs": [],
   "source": [
    "gdf = geopandas.GeoDataFrame(df, geometry='Coordinates')"
   ]
  },
  {
   "cell_type": "code",
   "execution_count": null,
   "metadata": {},
   "outputs": [],
   "source": [
    "gdf"
   ]
  },
  {
   "cell_type": "markdown",
   "metadata": {},
   "source": [
    "See http://geopandas.readthedocs.io/en/latest/gallery/create_geopandas_from_pandas.html#sphx-glr-gallery-create-geopandas-from-pandas-py for full example"
   ]
  }
 ],
 "metadata": {
  "kernelspec": {
   "display_name": "Python 3",
   "language": "python",
   "name": "python3"
  },
  "language_info": {
   "codemirror_mode": {
    "name": "ipython",
    "version": 3
   },
   "file_extension": ".py",
   "mimetype": "text/x-python",
   "name": "python",
   "nbconvert_exporter": "python",
   "pygments_lexer": "ipython3",
   "version": "3.7.2"
  }
 },
 "nbformat": 4,
 "nbformat_minor": 2
}
