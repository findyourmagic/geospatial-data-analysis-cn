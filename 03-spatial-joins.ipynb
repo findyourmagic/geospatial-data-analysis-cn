{
 "cells": [
  {
   "cell_type": "markdown",
   "metadata": {},
   "source": [
    "# 空间连接"
   ]
  },
  {
   "cell_type": "markdown",
   "metadata": {
    "slideshow": {
     "slide_type": "fragment"
    }
   },
   "source": [
    "本节目标:\n",
    "\n",
    "- 基于 `countries` 和 `cities` dataframes, 按照所在国家给每个城市分类.\n",
    "- 为了解决这个问题, 我们会使用一个概念'空间连接'操作: 基于空间关系合并空间数据集."
   ]
  },
  {
   "cell_type": "code",
   "execution_count": null,
   "metadata": {},
   "outputs": [],
   "source": [
    "%matplotlib inline\n",
    "\n",
    "import pandas as pd\n",
    "import geopandas\n",
    "\n",
    "pd.options.display.max_rows = 10"
   ]
  },
  {
   "cell_type": "code",
   "execution_count": null,
   "metadata": {},
   "outputs": [],
   "source": [
    "countries = geopandas.read_file(\"zip://./data/ne_110m_admin_0_countries.zip\")\n",
    "cities = geopandas.read_file(\"zip://./data/ne_110m_populated_places.zip\")\n",
    "rivers = geopandas.read_file(\"zip://./data/ne_50m_rivers_lake_centerlines.zip\")"
   ]
  },
  {
   "cell_type": "markdown",
   "metadata": {},
   "source": [
    "## 概要 - 连接 dataframes\n",
    "\n",
    "Pandas 提供多重连接或者合并 dataframes 的功能\n",
    "\n",
    "查看简介： https://chrisalbon.com/python/data_wrangling/pandas_join_merge_dataframe/\n",
    "\n",
    "完整文档： https://pandas.pydata.org/pandas-docs/stable/merging.html"
   ]
  },
  {
   "cell_type": "markdown",
   "metadata": {},
   "source": [
    "演示下如何使用 pandas 连接两个 dataframes, 我们分别从 `cities` 和 `countries` datasets 中取子集: "
   ]
  },
  {
   "cell_type": "code",
   "execution_count": null,
   "metadata": {},
   "outputs": [],
   "source": [
    "cities2 = cities[cities['name'].isin(['Bern', 'Brussels', 'London', 'Paris'])].copy()\n",
    "cities2['iso_a3'] = ['CHE', 'BEL', 'GBR', 'FRA']"
   ]
  },
  {
   "cell_type": "code",
   "execution_count": null,
   "metadata": {},
   "outputs": [],
   "source": [
    "cities2"
   ]
  },
  {
   "cell_type": "code",
   "execution_count": null,
   "metadata": {},
   "outputs": [],
   "source": [
    "countries2 = countries[['iso_a3', 'name', 'continent']]\n",
    "countries2.head()"
   ]
  },
  {
   "cell_type": "markdown",
   "metadata": {},
   "source": [
    "我们在 `cities` 数据集上增加了增加了 `iso_a3` 列, 用来标识该城市所在的国家. 这个国家代码也出现在 `countries` 数据集, 使我们可以基于这个共同的列来合并两个 dataframes.\n",
    "\n",
    "合并 `cities` 和 `countries` 会基于共同的键把国家的一些额外信息 (全称, 大陆) 传递给 `cities` dataframe:"
   ]
  },
  {
   "cell_type": "code",
   "execution_count": null,
   "metadata": {},
   "outputs": [],
   "source": [
    "cities2.merge(countries2, on='iso_a3')"
   ]
  },
  {
   "cell_type": "markdown",
   "metadata": {},
   "source": [
    "**但是**, 在这个例子中, 我们手工添加了这一列, 它并不在我们的原始数据中. 然而, 我们会知道如何基于空间坐标来连接两个 dataframes."
   ]
  },
  {
   "cell_type": "markdown",
   "metadata": {},
   "source": [
    "## 概要 - 对象间的空间关系\n",
    "\n",
    "在上一个 notebook 中 [02-spatial-relationships.ipynb](./02-spatial-relationships-operations.ipynb),我们看到了空间关系相关的概念: 包含, 被包含, 交叉, ...\n",
    "\n",
    "在这个例子中, 我们知道每个城市都*被包含*在一个国家里, 另一方面每个国家可以*包含*多个城市.\n",
    "\n",
    "我们可以用上节中见过的方法来测试这个关系:"
   ]
  },
  {
   "cell_type": "code",
   "execution_count": null,
   "metadata": {},
   "outputs": [],
   "source": [
    "france = countries.loc[countries['name'] == 'France', 'geometry'].squeeze()"
   ]
  },
  {
   "cell_type": "code",
   "execution_count": null,
   "metadata": {},
   "outputs": [],
   "source": [
    "cities.within(france)"
   ]
  },
  {
   "cell_type": "markdown",
   "metadata": {},
   "source": [
    "上面的语句返回一个布尔值组成的序列, 用来表面 `cities` dataframe 中每个点是否被包含于法国范围内.  \n",
    "因为这是个布尔序列, 所以我们可以用它来过滤原始数据中真正位于发过的城市:"
   ]
  },
  {
   "cell_type": "code",
   "execution_count": null,
   "metadata": {},
   "outputs": [],
   "source": [
    "cities[cities.within(france)]"
   ]
  },
  {
   "cell_type": "markdown",
   "metadata": {},
   "source": [
    "我们现在可以对每个国家重复上面的分析, 然后在 `cities` dataframe 增加一列来标识国家.然而,手工操作过于乏味,而且空间连接运算给我们提供了相关功能.\n",
    "\n",
    "*(提醒: 因为国家数据集比较粗糙，上面的结果有错误)*"
   ]
  },
  {
   "cell_type": "markdown",
   "metadata": {
    "slideshow": {
     "slide_type": "slide"
    }
   },
   "source": [
    "## 空间连接运算\n",
    "\n",
    "<div class=\"alert alert-info\" style=\"font-size:120%\">\n",
    "<b>空间连接</b> = *基于空间关系把属性从一层转移到另一层* <br><br>\n",
    "\n",
    "\n",
    "这个运算的与众不同之处:\n",
    "\n",
    "<ul>\n",
    "  <li>想要在 GeoDataFrame 中添加信息</li>\n",
    "  <li>GeoDataFrame 里包含我们想要添加的信息 </li>\n",
    "  <li>两个我们需要使用的数据集需要满足空间关系 ('交叉', '包含', '被包含')</li>\n",
    "  <li>连接类型: left join 或者 inner join</li>\n",
    "</ul>\n",
    "\n",
    "</div>"
   ]
  },
  {
   "cell_type": "markdown",
   "metadata": {
    "slideshow": {
     "slide_type": "-"
    }
   },
   "source": [
    "在这个例子中, 我们想基于空间关系把 `cities` dataframe 和 `countries` dataframe 连接.\n",
    "\n",
    "我们使用 [`geopandas.sjoin`](http://geopandas.readthedocs.io/en/latest/reference/geopandas.sjoin.html) 函数:"
   ]
  },
  {
   "cell_type": "code",
   "execution_count": null,
   "metadata": {},
   "outputs": [],
   "source": [
    "joined = geopandas.sjoin(cities, countries, op='within', how='left')"
   ]
  },
  {
   "cell_type": "code",
   "execution_count": null,
   "metadata": {},
   "outputs": [],
   "source": [
    "joined"
   ]
  },
  {
   "cell_type": "code",
   "execution_count": null,
   "metadata": {},
   "outputs": [],
   "source": [
    "joined['continent'].value_counts()"
   ]
  },
  {
   "cell_type": "markdown",
   "metadata": {},
   "source": [
    "## 覆盖运算\n",
    "\n",
    "在上面的空间连接运算中,我们没有改变几何图形本身.我们没有连接几何图形,而是基于几何图形的空间联系连接了其他属性.这表示这些图形至少有一部分使重叠的.\n",
    "\n",
    "如果你想通过连接空间数据集来创造新的几何图形 (比如对几何图形取交集), 你需要 **overlay** 操作."
   ]
  },
  {
   "cell_type": "code",
   "execution_count": null,
   "metadata": {},
   "outputs": [],
   "source": [
    "africa = countries[countries['continent'] == 'Africa']"
   ]
  },
  {
   "cell_type": "code",
   "execution_count": null,
   "metadata": {},
   "outputs": [],
   "source": [
    "africa.plot()"
   ]
  },
  {
   "cell_type": "code",
   "execution_count": null,
   "metadata": {},
   "outputs": [],
   "source": [
    "cities['geometry'] = cities.buffer(2)"
   ]
  },
  {
   "cell_type": "code",
   "execution_count": null,
   "metadata": {},
   "outputs": [],
   "source": [
    "geopandas.overlay(africa, cities, how='difference').plot()"
   ]
  },
  {
   "cell_type": "markdown",
   "metadata": {},
   "source": [
    "<div class=\"alert alert-info\" style=\"font-size:120%\">\n",
    "<b>牢记</b> <br>\n",
    "\n",
    "<ul>\n",
    "  <li>**空间连接**: 基于空间关系转移属性</li>\n",
    "  <li>**空间覆盖**: 基于两个 dataframes 之间的空间运算创建新的jie (and combining attributes of both dataframes)</li>\n",
    "</ul>\n",
    "\n",
    "</div>"
   ]
  }
 ],
 "metadata": {
  "kernelspec": {
   "display_name": "Python 3",
   "language": "python",
   "name": "python3"
  },
  "language_info": {
   "codemirror_mode": {
    "name": "ipython",
    "version": 3
   },
   "file_extension": ".py",
   "mimetype": "text/x-python",
   "name": "python",
   "nbconvert_exporter": "python",
   "pygments_lexer": "ipython3",
   "version": "3.7.2"
  }
 },
 "nbformat": 4,
 "nbformat_minor": 2
}
